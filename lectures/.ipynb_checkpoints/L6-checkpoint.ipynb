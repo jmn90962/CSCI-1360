{
 "cells": [
  {
   "cell_type": "markdown",
   "metadata": {
    "slideshow": {
     "slide_type": "slide"
    }
   },
   "source": [
    "# Lecture 6: Advanced Data Structures\n",
    "\n",
    "CSCI 1360: Foundations for Informatics and Analytics"
   ]
  },
  {
   "cell_type": "markdown",
   "metadata": {
    "slideshow": {
     "slide_type": "slide"
    }
   },
   "source": [
    "## Overview and Objectives\n",
    "\n",
    "We've covered list, tuples, sets, and dictionaries. These are the foundational data structures in Python. In this lecture, we'll go over some more advanced topics that are related to these datasets. By the end of this lecture, you should be able to\n"
   ]
  },
  {
   "cell_type": "markdown",
   "metadata": {
    "slideshow": {
     "slide_type": "fragment"
    }
   },
   "source": [
    " - Compare and contrast generators and comprehensions, and how to construct them\n",
    " - Explain the benefits of generators, especially in the case of huge datasets\n",
    " - Loop over multiple lists simultaneously with `zip()` and index them with `enumerate()`\n",
    " - Dive into advanced iterations using the `itertools` module"
   ]
  },
  {
   "cell_type": "markdown",
   "metadata": {
    "slideshow": {
     "slide_type": "slide"
    }
   },
   "source": [
    "## Part 1: List Comprehensions"
   ]
  },
  {
   "cell_type": "markdown",
   "metadata": {
    "slideshow": {
     "slide_type": "fragment"
    }
   },
   "source": [
    "Here's some good news: if we get right down to it, having done loops and lists already, there's nothing new here."
   ]
  },
  {
   "cell_type": "markdown",
   "metadata": {
    "slideshow": {
     "slide_type": "fragment"
    }
   },
   "source": [
    "Here's the bad news: it's a different, and possibly less-easy-to-understand, but much more concise way of creating lists. We'll go over it bit by bit."
   ]
  },
  {
   "cell_type": "markdown",
   "metadata": {
    "slideshow": {
     "slide_type": "slide"
    }
   },
   "source": [
    "Let's look at an example from a previous lecture: creating a list of squares."
   ]
  },
  {
   "cell_type": "code",
   "execution_count": 1,
   "metadata": {
    "slideshow": {
     "slide_type": "fragment"
    }
   },
   "outputs": [
    {
     "name": "stdout",
     "output_type": "stream",
     "text": [
      "[0, 1, 4, 9, 16, 25, 36, 49, 64, 81]\n"
     ]
    }
   ],
   "source": [
    "squares = []\n",
    "for element in range(10):\n",
    "    squares.append(element ** 2)\n",
    "print(squares)"
   ]
  },
  {
   "cell_type": "markdown",
   "metadata": {
    "slideshow": {
     "slide_type": "fragment"
    }
   },
   "source": [
    "Let's break it down."
   ]
  },
  {
   "cell_type": "markdown",
   "metadata": {
    "slideshow": {
     "slide_type": "slide"
    }
   },
   "source": [
    "`for element in range(10):`"
   ]
  },
  {
   "cell_type": "markdown",
   "metadata": {
    "slideshow": {
     "slide_type": "fragment"
    }
   },
   "source": [
    " - It's a standard \"for\" loop header."
   ]
  },
  {
   "cell_type": "markdown",
   "metadata": {
    "slideshow": {
     "slide_type": "fragment"
    }
   },
   "source": [
    " - The thing we're iterating over is at the end: `range(10)`, or a list[-like thing] of numbers [0, 10) by 1s."
   ]
  },
  {
   "cell_type": "markdown",
   "metadata": {
    "slideshow": {
     "slide_type": "fragment"
    }
   },
   "source": [
    " - In each loop, the current element from `range(10)` is stored in `element`."
   ]
  },
  {
   "cell_type": "markdown",
   "metadata": {
    "slideshow": {
     "slide_type": "slide"
    }
   },
   "source": [
    "`squares.append(element ** 2)`"
   ]
  },
  {
   "cell_type": "markdown",
   "metadata": {
    "slideshow": {
     "slide_type": "fragment"
    }
   },
   "source": [
    " - Inside the loop, we append a new item to our list `squares`"
   ]
  },
  {
   "cell_type": "markdown",
   "metadata": {
    "slideshow": {
     "slide_type": "fragment"
    }
   },
   "source": [
    " - The item is computed by taking the current its, `element`, and computing its square"
   ]
  },
  {
   "cell_type": "markdown",
   "metadata": {
    "slideshow": {
     "slide_type": "fragment"
    }
   },
   "source": [
    "We'll see these same pieces show up again, just in a slightly different order."
   ]
  },
  {
   "cell_type": "code",
   "execution_count": 2,
   "metadata": {
    "slideshow": {
     "slide_type": "slide"
    }
   },
   "outputs": [
    {
     "name": "stdout",
     "output_type": "stream",
     "text": [
      "[0, 1, 4, 9, 16, 25, 36, 49, 64, 81]\n"
     ]
    }
   ],
   "source": [
    "squares = [element ** 2 for element in range(10)]\n",
    "print(squares)"
   ]
  },
  {
   "cell_type": "markdown",
   "metadata": {
    "slideshow": {
     "slide_type": "fragment"
    }
   },
   "source": [
    "There it is: a list comprehension. Let's break it down."
   ]
  },
  {
   "cell_type": "markdown",
   "metadata": {
    "slideshow": {
     "slide_type": "fragment"
    }
   },
   "source": [
    " - Notice, first, that the entire expression is surrounded by the square brackets `[ ]` of a list. This is for the exact reason you'd think: we're building a list!"
   ]
  },
  {
   "cell_type": "markdown",
   "metadata": {
    "slideshow": {
     "slide_type": "fragment"
    }
   },
   "source": [
    " - The \"for\" loop is completely intact, too; the entire header appears just as before."
   ]
  },
  {
   "cell_type": "markdown",
   "metadata": {
    "slideshow": {
     "slide_type": "fragment"
    }
   },
   "source": [
    " - The biggest wrinkle is the loop body. It appears right after the opening bracket, *before* the loop header. The rationale for this is that it's easy to see from the start of the line that\n",
    "  1. We're building a list (revealed by the opening square bracket), and\n",
    "  2. The list is built by successfully squaring a variable `element`"
   ]
  },
  {
   "cell_type": "markdown",
   "metadata": {
    "slideshow": {
     "slide_type": "slide"
    }
   },
   "source": [
    "Let's say we have some dictionary of word counts:"
   ]
  },
  {
   "cell_type": "code",
   "execution_count": 1,
   "metadata": {
    "collapsed": true,
    "slideshow": {
     "slide_type": "fragment"
    }
   },
   "outputs": [],
   "source": [
    "word_counts = {\n",
    "    'the': 10,\n",
    "    'race': 2,\n",
    "    'is': 3,\n",
    "    'on': 5\n",
    "}"
   ]
  },
  {
   "cell_type": "markdown",
   "metadata": {
    "slideshow": {
     "slide_type": "fragment"
    }
   },
   "source": [
    "and we want to generate a list of sentences:"
   ]
  },
  {
   "cell_type": "code",
   "execution_count": 4,
   "metadata": {
    "slideshow": {
     "slide_type": "fragment"
    }
   },
   "outputs": [
    {
     "name": "stdout",
     "output_type": "stream",
     "text": [
      "['\"on\" appears 5 times.', '\"race\" appears 2 times.', '\"the\" appears 10 times.', '\"is\" appears 3 times.']\n"
     ]
    }
   ],
   "source": [
    "sentences = ['\"{}\" appears {} times.'.format(word, count) for word, count in word_counts.items()]\n",
    "print(sentences)"
   ]
  },
  {
   "cell_type": "markdown",
   "metadata": {
    "slideshow": {
     "slide_type": "fragment"
    }
   },
   "source": [
    " - Start with the loop header--you see it on the far right: `for word, count in word_counts.items()`\n",
    " - Then look at the loop body: `'\"{}\" appears {} times.'.format(word, count)`\n",
    " - All wrapped in square brackets `[ ]`\n",
    " - Assigned to the variable `sentences`"
   ]
  },
  {
   "cell_type": "markdown",
   "metadata": {
    "slideshow": {
     "slide_type": "slide"
    }
   },
   "source": [
    "Here's another example: going from a dictionary of word counts to a list of *squared* counts."
   ]
  },
  {
   "cell_type": "code",
   "execution_count": 2,
   "metadata": {
    "slideshow": {
     "slide_type": "fragment"
    }
   },
   "outputs": [
    {
     "name": "stdout",
     "output_type": "stream",
     "text": [
      "[25, 100, 9, 4]\n"
     ]
    }
   ],
   "source": [
    "squared_counts = [value ** 2 for key, value in word_counts.items()]\n",
    "print(squared_counts)"
   ]
  },
  {
   "cell_type": "markdown",
   "metadata": {
    "slideshow": {
     "slide_type": "fragment"
    }
   },
   "source": [
    " - We used the `items()` method on the dictionary again, which gives us a *list* of *tuples*"
   ]
  },
  {
   "cell_type": "markdown",
   "metadata": {
    "slideshow": {
     "slide_type": "fragment"
    }
   },
   "source": [
    " - Since we know the items in the list are *tuples* of two elements, we use *unpacking*"
   ]
  },
  {
   "cell_type": "markdown",
   "metadata": {
    "slideshow": {
     "slide_type": "fragment"
    }
   },
   "source": [
    " - We provide our element-by-element construction of the list with our statement `value ** 2`, squaring the value"
   ]
  },
  {
   "cell_type": "markdown",
   "metadata": {
    "slideshow": {
     "slide_type": "slide"
    }
   },
   "source": [
    "## Part 2: Generators"
   ]
  },
  {
   "cell_type": "markdown",
   "metadata": {
    "slideshow": {
     "slide_type": "fragment"
    }
   },
   "source": [
    "Generators are cool twists on lists (see what I did there). They've been around since Python 2 but took on a whole new life in Python 3."
   ]
  },
  {
   "cell_type": "markdown",
   "metadata": {
    "slideshow": {
     "slide_type": "fragment"
    }
   },
   "source": [
    "That said, if you ever get confused about generators, just think of them *as lists*. This can potentially get you in trouble with weird errors, but 90% of the time it'll work every time."
   ]
  },
  {
   "cell_type": "markdown",
   "metadata": {
    "slideshow": {
     "slide_type": "slide"
    }
   },
   "source": [
    "Let's start with an example you're probably already quite familiar with: `range()`"
   ]
  },
  {
   "cell_type": "code",
   "execution_count": 5,
   "metadata": {
    "collapsed": true,
    "slideshow": {
     "slide_type": "fragment"
    }
   },
   "outputs": [],
   "source": [
    "x = range(10)"
   ]
  },
  {
   "cell_type": "markdown",
   "metadata": {
    "slideshow": {
     "slide_type": "fragment"
    }
   },
   "source": [
    "As we know, this will create a list[-like thing] with the numbers 0 through 9, inclusive, and assign it to the variable `x`."
   ]
  },
  {
   "cell_type": "markdown",
   "metadata": {
    "slideshow": {
     "slide_type": "fragment"
    }
   },
   "source": [
    "Now you'll see why I've been using the \"list[-like thing]\" notation: it's not really a list!"
   ]
  },
  {
   "cell_type": "code",
   "execution_count": 6,
   "metadata": {
    "slideshow": {
     "slide_type": "fragment"
    }
   },
   "outputs": [
    {
     "name": "stdout",
     "output_type": "stream",
     "text": [
      "range(0, 10)\n",
      "<class 'range'>\n"
     ]
    }
   ],
   "source": [
    "print(x)\n",
    "print(type(x))"
   ]
  },
  {
   "cell_type": "markdown",
   "metadata": {
    "slideshow": {
     "slide_type": "subslide"
    }
   },
   "source": [
    "To get a list, we've been *casting* the generator to a list:"
   ]
  },
  {
   "cell_type": "code",
   "execution_count": 7,
   "metadata": {
    "slideshow": {
     "slide_type": "fragment"
    }
   },
   "outputs": [
    {
     "data": {
      "text/plain": [
       "[0, 1, 2, 3, 4, 5, 6, 7, 8, 9]"
      ]
     },
     "execution_count": 7,
     "metadata": {},
     "output_type": "execute_result"
    }
   ],
   "source": [
    "list(x)"
   ]
  },
  {
   "cell_type": "markdown",
   "metadata": {
    "slideshow": {
     "slide_type": "fragment"
    }
   },
   "source": [
    "and we get a vanilla Python list."
   ]
  },
  {
   "cell_type": "markdown",
   "metadata": {
    "slideshow": {
     "slide_type": "slide"
    }
   },
   "source": [
    "So `range()` gives us a generator! Great! ...what does that mean, exactly?"
   ]
  },
  {
   "cell_type": "markdown",
   "metadata": {
    "slideshow": {
     "slide_type": "fragment"
    }
   },
   "source": [
    "For *most* practical purposes, generators and lists are indistinguishable. However, there are some key differences to be aware of:"
   ]
  },
  {
   "cell_type": "markdown",
   "metadata": {
    "slideshow": {
     "slide_type": "fragment"
    }
   },
   "source": [
    " - **Generators are \"lazy\".** This means when you call `range(10)`, not all 10 numbers are immediately computed; in fact, none of them are. They're computed on-the-fly in the loop itself! This really comes in handy if, say, you wanted to loop through 1 trillion numbers, or call `range(1000000000000)`. With vanilla lists, this would immediately create 1 trillion numbers in memory and store them, taking up a *whole lot* of space. With generators, only 1 number is ever computed at a given loop iteration. Huge memory savings!"
   ]
  },
  {
   "cell_type": "markdown",
   "metadata": {
    "slideshow": {
     "slide_type": "fragment"
    }
   },
   "source": [
    " - **Generators only work *once*.** This is where you can get into trouble. Let's say you're trying to identify the two largest numbers in a generator of numbers. You'd loop through once and identify the largest number, then use that as a point of comparison to loop through *again* to find the second-largest number (you could do it with just one loop, but for the sake of discussion let's assume you did it this way). With a list, this would work just fine. Not with a generator, though. You'd need to explicitly recreate the generator."
   ]
  },
  {
   "cell_type": "markdown",
   "metadata": {
    "slideshow": {
     "slide_type": "slide"
    }
   },
   "source": [
    "How do we build generators? Aside from `range()`, that is."
   ]
  },
  {
   "cell_type": "markdown",
   "metadata": {
    "slideshow": {
     "slide_type": "fragment"
    }
   },
   "source": [
    "Remember list comprehensions? Just replace the brackets of a list comprehension `[ ]` with parentheses `( )`."
   ]
  },
  {
   "cell_type": "code",
   "execution_count": 8,
   "metadata": {
    "slideshow": {
     "slide_type": "fragment"
    }
   },
   "outputs": [
    {
     "name": "stdout",
     "output_type": "stream",
     "text": [
      "[0, 1, 2, 3, 4, 5, 6, 7, 8, 9]\n"
     ]
    }
   ],
   "source": [
    "x = [i for i in range(10)]  # Brackets -> list\n",
    "print(x)"
   ]
  },
  {
   "cell_type": "code",
   "execution_count": 9,
   "metadata": {
    "slideshow": {
     "slide_type": "fragment"
    }
   },
   "outputs": [
    {
     "name": "stdout",
     "output_type": "stream",
     "text": [
      "<generator object <genexpr> at 0x10415a410>\n"
     ]
    }
   ],
   "source": [
    "x = (i for i in range(10))  # Parentheses -> generator\n",
    "print(x)"
   ]
  },
  {
   "cell_type": "markdown",
   "metadata": {
    "slideshow": {
     "slide_type": "fragment"
    }
   },
   "source": [
    "Also--where have we seen parentheses before? **TUPLES!** You can think of a generator as a sort of tuple. After all, like a tuple, a generator is *immutable* (cannot be changed once created). Be careful with this, though: all generators are very like tuples, but not all tuples are like generators."
   ]
  },
  {
   "cell_type": "markdown",
   "metadata": {
    "slideshow": {
     "slide_type": "slide"
    }
   },
   "source": [
    "In sum, use **lists** if:"
   ]
  },
  {
   "cell_type": "markdown",
   "metadata": {
    "slideshow": {
     "slide_type": "fragment"
    }
   },
   "source": [
    " - you're working with a relatively small amount of elements\n",
    " - you want to add to / edit / remove from the elements\n",
    " - you need direct access to arbitrary elements, e.g. `some_list[431]`"
   ]
  },
  {
   "cell_type": "markdown",
   "metadata": {
    "slideshow": {
     "slide_type": "fragment"
    }
   },
   "source": [
    "On the other hand, use **generators** if:"
   ]
  },
  {
   "cell_type": "markdown",
   "metadata": {
    "slideshow": {
     "slide_type": "fragment"
    }
   },
   "source": [
    " - you're working with a giant collection of elements\n",
    " - you'll only loop through the elements once or twice\n",
    " - when looping through elements, you're fine going in sequential order"
   ]
  },
  {
   "cell_type": "markdown",
   "metadata": {
    "slideshow": {
     "slide_type": "slide"
    }
   },
   "source": [
    "## Part 3: Other looping mechanisms"
   ]
  },
  {
   "cell_type": "markdown",
   "metadata": {
    "slideshow": {
     "slide_type": "fragment"
    }
   },
   "source": [
    "There are a few other advanced looping mechanisms in Python that are a little complex, but can make your life a lot easier when used correctly (especially if you're a convert from something like C++ or Java)."
   ]
  },
  {
   "cell_type": "markdown",
   "metadata": {
    "slideshow": {
     "slide_type": "slide"
    }
   },
   "source": [
    "### `zip()`"
   ]
  },
  {
   "cell_type": "markdown",
   "metadata": {
    "slideshow": {
     "slide_type": "fragment"
    }
   },
   "source": [
    "`zip()` is a small method that packs a big punch. It \"zips\" multiple lists together into something of one big mega-list for the sole purpose of being able to iterate through them all simultaneously."
   ]
  },
  {
   "cell_type": "markdown",
   "metadata": {
    "slideshow": {
     "slide_type": "fragment"
    }
   },
   "source": [
    "We've already seen something like this before: the `items()` method in dictionaries. Dictionaries are more or less two lists stacked right up against each other: one list holds the keys, and the corresponding elements of the other list holds the values for each key. `items()` lets us loop through both simultaneously, giving us the corresponding elements from each list, one at a time:"
   ]
  },
  {
   "cell_type": "code",
   "execution_count": 10,
   "metadata": {
    "slideshow": {
     "slide_type": "fragment"
    }
   },
   "outputs": [
    {
     "name": "stdout",
     "output_type": "stream",
     "text": [
      "'gt' stands for 'Georgia Tech'.\n",
      "'cmu' stands for 'Carnegie Mellon University'.\n",
      "'uga' stands for 'University of Georgia'.\n",
      "'upitt' stands for 'University of Pittsburgh'.\n"
     ]
    }
   ],
   "source": [
    "d = {\n",
    "    'uga': 'University of Georgia',\n",
    "    'gt': 'Georgia Tech',\n",
    "    'upitt': 'University of Pittsburgh',\n",
    "    'cmu': 'Carnegie Mellon University'\n",
    "}\n",
    "for key, value in d.items():\n",
    "    print(\"'{}' stands for '{}'.\".format(key, value))"
   ]
  },
  {
   "cell_type": "markdown",
   "metadata": {
    "slideshow": {
     "slide_type": "fragment"
    }
   },
   "source": [
    "`zip()` does pretty much the same thing, but on steroids: rather than just \"zipping\" together two lists, it can zip together *as many as you want*."
   ]
  },
  {
   "cell_type": "markdown",
   "metadata": {
    "slideshow": {
     "slide_type": "slide"
    }
   },
   "source": [
    "Here's an example: first names, last names, and favorite programming languages."
   ]
  },
  {
   "cell_type": "code",
   "execution_count": 11,
   "metadata": {
    "collapsed": true,
    "slideshow": {
     "slide_type": "fragment"
    }
   },
   "outputs": [],
   "source": [
    "first_names = ['Shannon', 'Jen', 'Natasha', 'Benjamin']\n",
    "last_names = ['Quinn', 'Benoit', 'Romanov', 'Button']\n",
    "fave_langs = ['Python', 'Java', 'Assembly', 'Go']"
   ]
  },
  {
   "cell_type": "markdown",
   "metadata": {
    "slideshow": {
     "slide_type": "fragment"
    }
   },
   "source": [
    "I want to loop through these three lists simultaneously, so I can print out the person's first name, last name, and their favorite language on the same line. Since I know they're the same length, I could just do a `range(len(fname))`, but this is arguably more elegant:"
   ]
  },
  {
   "cell_type": "code",
   "execution_count": 12,
   "metadata": {
    "slideshow": {
     "slide_type": "fragment"
    }
   },
   "outputs": [
    {
     "name": "stdout",
     "output_type": "stream",
     "text": [
      "Shannon Quinn's favorite language is Python.\n",
      "Jen Benoit's favorite language is Java.\n",
      "Natasha Romanov's favorite language is Assembly.\n",
      "Benjamin Button's favorite language is Go.\n"
     ]
    }
   ],
   "source": [
    "for fname, lname, lang in zip(first_names, last_names, fave_langs):\n",
    "    print(\"{} {}'s favorite language is {}.\".format(fname, lname, lang))"
   ]
  },
  {
   "cell_type": "markdown",
   "metadata": {
    "slideshow": {
     "slide_type": "slide"
    }
   },
   "source": [
    "### `enumerate()`"
   ]
  },
  {
   "cell_type": "markdown",
   "metadata": {
    "slideshow": {
     "slide_type": "fragment"
    }
   },
   "source": [
    "Of course, there are always those situations where it's really, really nice to have an index variable in the loop. Let's take a look at that previous example:"
   ]
  },
  {
   "cell_type": "code",
   "execution_count": 13,
   "metadata": {
    "slideshow": {
     "slide_type": "fragment"
    }
   },
   "outputs": [
    {
     "name": "stdout",
     "output_type": "stream",
     "text": [
      "Shannon Quinn's favorite language is Python.\n",
      "Jen Benoit's favorite language is Java.\n",
      "Natasha Romanov's favorite language is Assembly.\n",
      "Benjamin Button's favorite language is Go.\n"
     ]
    }
   ],
   "source": [
    "for fname, lname, lang in zip(first_names, last_names, fave_langs):\n",
    "    print(\"{} {}'s favorite language is {}.\".format(fname, lname, lang))"
   ]
  },
  {
   "cell_type": "markdown",
   "metadata": {
    "slideshow": {
     "slide_type": "fragment"
    }
   },
   "source": [
    "This is great if all I want to do is loop through the lists simultaneously. But what if the *ordering* of the elements matters? For example, I want to prefix each sentence with the line number. How can I track what index I'm on in a loop if I don't use `range()`?"
   ]
  },
  {
   "cell_type": "markdown",
   "metadata": {
    "slideshow": {
     "slide_type": "slide"
    }
   },
   "source": [
    "`enumerate()` handles this. By wrapping the object we loop over inside `enumerate()`, on each loop iteration we not only get the next object of interest, but also the index of that object. To wit:"
   ]
  },
  {
   "cell_type": "code",
   "execution_count": 14,
   "metadata": {
    "slideshow": {
     "slide_type": "fragment"
    }
   },
   "outputs": [
    {
     "name": "stdout",
     "output_type": "stream",
     "text": [
      "Found 'a' at index 0.\n",
      "Found 'list' at index 1.\n",
      "Found 'of' at index 2.\n",
      "Found 'strings' at index 3.\n"
     ]
    }
   ],
   "source": [
    "x = ['a', 'list', 'of', 'strings']\n",
    "for index, element in enumerate(x):\n",
    "    print(\"Found '{}' at index {}.\".format(element, index))"
   ]
  },
  {
   "cell_type": "markdown",
   "metadata": {
    "slideshow": {
     "slide_type": "fragment"
    }
   },
   "source": [
    "This comes in handy anytime you need to loop through a list or generator, but also need to know what index you're on."
   ]
  },
  {
   "cell_type": "markdown",
   "metadata": {
    "slideshow": {
     "slide_type": "slide"
    }
   },
   "source": [
    "### `break` and `continue`"
   ]
  },
  {
   "cell_type": "markdown",
   "metadata": {
    "slideshow": {
     "slide_type": "fragment"
    }
   },
   "source": [
    " - With `for` loops, you specify how many times to run the loop.\n",
    " - With `while` loops, you iterate until some condition is met."
   ]
  },
  {
   "cell_type": "markdown",
   "metadata": {
    "slideshow": {
     "slide_type": "fragment"
    }
   },
   "source": [
    "For the vast majority of cases, this works well. But sometimes you need just a *little* more control for extenuating circumstances."
   ]
  },
  {
   "cell_type": "markdown",
   "metadata": {
    "slideshow": {
     "slide_type": "slide"
    }
   },
   "source": [
    "Take the example of a web server:"
   ]
  },
  {
   "cell_type": "markdown",
   "metadata": {
    "slideshow": {
     "slide_type": "fragment"
    }
   },
   "source": [
    " - Listens for incoming requests\n",
    " - Serves those requests (e.g. returns web pages)\n",
    " - Goes back to listening for more requests"
   ]
  },
  {
   "cell_type": "markdown",
   "metadata": {
    "slideshow": {
     "slide_type": "fragment"
    }
   },
   "source": [
    "This is essentially implemented using a purposefully-infinite loop:"
   ]
  },
  {
   "cell_type": "code",
   "execution_count": null,
   "metadata": {
    "collapsed": true,
    "slideshow": {
     "slide_type": "fragment"
    }
   },
   "outputs": [],
   "source": [
    "while True:\n",
    "    # Listen for incoming requests\n",
    "    \n",
    "    # Handle the request"
   ]
  },
  {
   "cell_type": "markdown",
   "metadata": {
    "slideshow": {
     "slide_type": "slide"
    }
   },
   "source": [
    "How do you get out of this infinite loop? With a `break` statement."
   ]
  },
  {
   "cell_type": "code",
   "execution_count": 2,
   "metadata": {
    "slideshow": {
     "slide_type": "fragment"
    }
   },
   "outputs": [
    {
     "name": "stdout",
     "output_type": "stream",
     "text": [
      "Exiting program after 1 loops.\n"
     ]
    }
   ],
   "source": [
    "import numpy as np\n",
    "\n",
    "def handle_request():\n",
    "    return np.random.randint(100)\n",
    "\n",
    "loops = 0\n",
    "while True:\n",
    "    loops += 1\n",
    "    req = handle_request()\n",
    "    break\n",
    "        \n",
    "print(\"Exiting program after {} loop.\".format(loops))"
   ]
  },
  {
   "cell_type": "markdown",
   "metadata": {
    "slideshow": {
     "slide_type": "fragment"
    }
   },
   "source": [
    "Just `break`. That will snap whatever loop you're currently in and immediately dump you out just after it."
   ]
  },
  {
   "cell_type": "markdown",
   "metadata": {
    "slideshow": {
     "slide_type": "slide"
    }
   },
   "source": [
    "Same thing with `for` loops:"
   ]
  },
  {
   "cell_type": "code",
   "execution_count": 3,
   "metadata": {
    "slideshow": {
     "slide_type": "fragment"
    }
   },
   "outputs": [
    {
     "name": "stdout",
     "output_type": "stream",
     "text": [
      "0\n"
     ]
    }
   ],
   "source": [
    "for i in range(100000):  # Loop 100,000 times!\n",
    "    break\n",
    "print(i)"
   ]
  },
  {
   "cell_type": "markdown",
   "metadata": {
    "slideshow": {
     "slide_type": "slide"
    }
   },
   "source": [
    "Similar to `break` is `continue`, though you use this when you essentially want to \"skip\" certain iterations."
   ]
  },
  {
   "cell_type": "markdown",
   "metadata": {
    "slideshow": {
     "slide_type": "fragment"
    }
   },
   "source": [
    "`continue` will also halt the current iteration, but instead of ending the loop entirely, it basically skips you on to the *next* iteration of the loop without executing any code that may be below it."
   ]
  },
  {
   "cell_type": "code",
   "execution_count": 4,
   "metadata": {
    "slideshow": {
     "slide_type": "fragment"
    }
   },
   "outputs": [
    {
     "name": "stdout",
     "output_type": "stream",
     "text": [
      "99\n"
     ]
    }
   ],
   "source": [
    "for i in range(100):\n",
    "    continue\n",
    "    print(\"This will never be printed.\")\n",
    "print(i)"
   ]
  },
  {
   "cell_type": "markdown",
   "metadata": {
    "slideshow": {
     "slide_type": "fragment"
    }
   },
   "source": [
    "Notice how the `print` statement inside the loop is never executed, but our loop counter `i` is still incremented through the very end."
   ]
  },
  {
   "cell_type": "markdown",
   "metadata": {
    "slideshow": {
     "slide_type": "slide"
    }
   },
   "source": [
    "## Part 4: `itertools`"
   ]
  },
  {
   "cell_type": "markdown",
   "metadata": {
    "slideshow": {
     "slide_type": "fragment"
    }
   },
   "source": [
    "Aside: Welcome to the big wide world of *Beyond Core Python*."
   ]
  },
  {
   "cell_type": "markdown",
   "metadata": {
    "slideshow": {
     "slide_type": "fragment"
    }
   },
   "source": [
    "Technically we're still in base Python, but in order to use more advanced iterating tools, we have to actually pull in an external package--`itertools`."
   ]
  },
  {
   "cell_type": "markdown",
   "metadata": {
    "slideshow": {
     "slide_type": "slide"
    }
   },
   "source": [
    "[Justin Duke](http://jmduke.com/posts/a-gentle-introduction-to-itertools/) has an excellent web tutorial, which I'll reproduce in part here. Let's say we have a couple of lists we want to operate on:"
   ]
  },
  {
   "cell_type": "code",
   "execution_count": 3,
   "metadata": {
    "collapsed": true,
    "slideshow": {
     "slide_type": "fragment"
    }
   },
   "outputs": [],
   "source": [
    "letters = ['a', 'b', 'c', 'd', 'e', 'f']\n",
    "booleans = [1, 0, 1, 0, 0, 1]\n",
    "numbers = [23, 20, 44, 32, 7, 12]\n",
    "decimals = [0.1, 0.7, 0.4, 0.4, 0.5]"
   ]
  },
  {
   "cell_type": "markdown",
   "metadata": {
    "slideshow": {
     "slide_type": "fragment"
    }
   },
   "source": [
    "Now: I want you to string all four of these lists together, end-to-end, into one long list. How would you do it?"
   ]
  },
  {
   "cell_type": "markdown",
   "metadata": {
    "slideshow": {
     "slide_type": "slide"
    }
   },
   "source": [
    "Here's a way simpler way, though it requires pulling in an external package. You can do this with the keyword `import`:"
   ]
  },
  {
   "cell_type": "code",
   "execution_count": 4,
   "metadata": {
    "collapsed": true,
    "slideshow": {
     "slide_type": "fragment"
    }
   },
   "outputs": [],
   "source": [
    "import itertools"
   ]
  },
  {
   "cell_type": "markdown",
   "metadata": {
    "slideshow": {
     "slide_type": "fragment"
    }
   },
   "source": [
    "Now, we have access to all the functions available in the `itertools` package--to use them, just type the package name, a dot \".\", and the function you want to call."
   ]
  },
  {
   "cell_type": "markdown",
   "metadata": {
    "slideshow": {
     "slide_type": "slide"
    }
   },
   "source": [
    "In this example, we want to use the `itertools.chain()` function:"
   ]
  },
  {
   "cell_type": "code",
   "execution_count": 6,
   "metadata": {
    "slideshow": {
     "slide_type": "fragment"
    }
   },
   "outputs": [
    {
     "name": "stdout",
     "output_type": "stream",
     "text": [
      "<itertools.chain object at 0x106c7bda0>\n"
     ]
    }
   ],
   "source": [
    "monster = itertools.chain(letters, booleans, numbers, decimals)\n",
    "print(monster)"
   ]
  },
  {
   "cell_type": "markdown",
   "metadata": {
    "slideshow": {
     "slide_type": "fragment"
    }
   },
   "source": [
    "Err, what's an `itertools.chain` object?"
   ]
  },
  {
   "cell_type": "markdown",
   "metadata": {
    "slideshow": {
     "slide_type": "fragment"
    }
   },
   "source": [
    "Don't panic--any thoughts as to what kind of object this might be?"
   ]
  },
  {
   "cell_type": "markdown",
   "metadata": {
    "slideshow": {
     "slide_type": "slide"
    }
   },
   "source": [
    "It's an *iterable*, and we know how to handle those!"
   ]
  },
  {
   "cell_type": "code",
   "execution_count": 7,
   "metadata": {
    "slideshow": {
     "slide_type": "fragment"
    }
   },
   "outputs": [
    {
     "name": "stdout",
     "output_type": "stream",
     "text": [
      "a b c d e f 1 0 1 0 0 1 23 20 44 32 7 12 0.1 0.7 0.4 0.4 0.5 "
     ]
    }
   ],
   "source": [
    "for item in monster:\n",
    "    print(item, end = \" \")"
   ]
  },
  {
   "cell_type": "markdown",
   "metadata": {
    "slideshow": {
     "slide_type": "fragment"
    }
   },
   "source": [
    "And there they are--all four lists, joined at the hip."
   ]
  },
  {
   "cell_type": "markdown",
   "metadata": {
    "slideshow": {
     "slide_type": "slide"
    }
   },
   "source": [
    "Another phenomenal function is `combinations`."
   ]
  },
  {
   "cell_type": "markdown",
   "metadata": {
    "slideshow": {
     "slide_type": "fragment"
    }
   },
   "source": [
    "If you've ever taken a combinatorics class, or are at all interested in the idea of finding all the possible combinations of a certain collection of things, this is your function."
   ]
  },
  {
   "cell_type": "markdown",
   "metadata": {
    "slideshow": {
     "slide_type": "fragment"
    }
   },
   "source": [
    "A common task in data science is finding combinations of configuration values that work well together--e.g., plotting your data in two dimensions. Which two dimensions will give the nicest plot?"
   ]
  },
  {
   "cell_type": "markdown",
   "metadata": {
    "slideshow": {
     "slide_type": "slide"
    }
   },
   "source": [
    "Here's a list of numbers. How many possible pairings are there?"
   ]
  },
  {
   "cell_type": "code",
   "execution_count": 8,
   "metadata": {
    "collapsed": true,
    "slideshow": {
     "slide_type": "fragment"
    }
   },
   "outputs": [],
   "source": [
    "items = ['one', 'two', 'three', 'four', 'five', 'six']"
   ]
  },
  {
   "cell_type": "code",
   "execution_count": 9,
   "metadata": {
    "slideshow": {
     "slide_type": "fragment"
    }
   },
   "outputs": [
    {
     "name": "stdout",
     "output_type": "stream",
     "text": [
      "('one', 'two')\n",
      "('one', 'three')\n",
      "('one', 'four')\n",
      "('one', 'five')\n",
      "('one', 'six')\n",
      "('two', 'three')\n",
      "('two', 'four')\n",
      "('two', 'five')\n",
      "('two', 'six')\n",
      "('three', 'four')\n",
      "('three', 'five')\n",
      "('three', 'six')\n",
      "('four', 'five')\n",
      "('four', 'six')\n",
      "('five', 'six')\n"
     ]
    }
   ],
   "source": [
    "combos = itertools.combinations(items, 2)  # The \"2\" means pairs.\n",
    "for combo in combos:\n",
    "    print(combo)"
   ]
  },
  {
   "cell_type": "markdown",
   "metadata": {
    "slideshow": {
     "slide_type": "slide"
    }
   },
   "source": [
    "It doesn't have to be pairs; we can also try to find all the triplets of items."
   ]
  },
  {
   "cell_type": "code",
   "execution_count": 10,
   "metadata": {
    "slideshow": {
     "slide_type": "fragment"
    }
   },
   "outputs": [
    {
     "name": "stdout",
     "output_type": "stream",
     "text": [
      "('one', 'two', 'three')\n",
      "('one', 'two', 'four')\n",
      "('one', 'two', 'five')\n",
      "('one', 'two', 'six')\n",
      "('one', 'three', 'four')\n",
      "('one', 'three', 'five')\n",
      "('one', 'three', 'six')\n",
      "('one', 'four', 'five')\n",
      "('one', 'four', 'six')\n",
      "('one', 'five', 'six')\n",
      "('two', 'three', 'four')\n",
      "('two', 'three', 'five')\n",
      "('two', 'three', 'six')\n",
      "('two', 'four', 'five')\n",
      "('two', 'four', 'six')\n",
      "('two', 'five', 'six')\n",
      "('three', 'four', 'five')\n",
      "('three', 'four', 'six')\n",
      "('three', 'five', 'six')\n",
      "('four', 'five', 'six')\n"
     ]
    }
   ],
   "source": [
    "combos = itertools.combinations(items, 3)  # Now it's a 3.\n",
    "for combo in combos:\n",
    "    print(combo)"
   ]
  },
  {
   "cell_type": "markdown",
   "metadata": {
    "slideshow": {
     "slide_type": "slide"
    }
   },
   "source": [
    "## Review Questions\n",
    "\n",
    "Some questions to discuss and consider:"
   ]
  },
  {
   "cell_type": "markdown",
   "metadata": {
    "slideshow": {
     "slide_type": "fragment"
    }
   },
   "source": [
    "1: I want a list of all possible combinations of `(x, y)` values for the range [0, 9]. Show how this can be done with a list comprehension using *two* for-loops.\n",
    "\n",
    "2: Without consulting Google University, consider how generators might work under the hood. How do you think they're implemented?\n",
    "\n",
    "3: Go back to the example with three lists (first names, last names, and programming languages). Show how you could use `enumerate` to prepend a line number (the current index of the lists) to the sentence printed for each person, e.g.: \"`17: Joe Schmo's favorite language is C++.`\"\n",
    "\n",
    "4: Consider that you have a list of lists--representing a matrix--and you want to convert each \"row\" of the matrix to a tuple, where the first element is an integer *row index*, and the second element is the *row itself* (the original list). Assuming the list-of-lists matrix already exists, how could you add the list of indices to it?\n",
    "\n",
    "5: How would you implement `itertools.combinations` on your own, just using loops?"
   ]
  },
  {
   "cell_type": "markdown",
   "metadata": {
    "slideshow": {
     "slide_type": "slide"
    }
   },
   "source": [
    "## Course Administrivia"
   ]
  },
  {
   "cell_type": "markdown",
   "metadata": {
    "slideshow": {
     "slide_type": "fragment"
    }
   },
   "source": [
    "**\"Cell was changed and shouldn't have\" errors on your assignments.** If you're getting these errors, it's because you put your code in the wrong cell. Make sure you edit *only* the cells that say `# YOUR CODE HERE` or `YOUR ANSWER HERE`. Also, be sure to delete or comment out the line that says `raise NotImplementedError()`."
   ]
  },
  {
   "cell_type": "markdown",
   "metadata": {
    "slideshow": {
     "slide_type": "fragment"
    }
   },
   "source": [
    "**If you need to re-fetch an assignment, you have to delete the entire directory of the old version.** For example, in the case where errors are found in the assignment and a new version needs to be pushed, you'll have to delete your current version *as well as the folder it's in*--so, everything--in order to re-fetch a new version."
   ]
  },
  {
   "cell_type": "markdown",
   "metadata": {
    "slideshow": {
     "slide_type": "fragment"
    }
   },
   "source": [
    "**First review session on Thursday!** Come with questions. I'll have some exercises for everyone to work on as well--exercises that could very likely end up on the midterm or final in some form."
   ]
  },
  {
   "cell_type": "markdown",
   "metadata": {
    "slideshow": {
     "slide_type": "fragment"
    }
   },
   "source": [
    "**How is A1 going?** A2 will be out on Thursday as well."
   ]
  },
  {
   "cell_type": "markdown",
   "metadata": {
    "slideshow": {
     "slide_type": "slide"
    }
   },
   "source": [
    "## Additional Resources\n",
    "\n",
    " 1. Matthes, Eric. *Python Crash Course*. 2016. ISBN-13: 978-1593276034\n",
    " 2. Grus, Joel. *Data Science from Scratch*. 2015. ISBN-13: 978-1491901427\n",
    " 3. Duke, Justin. *A Gentle Introduction to `itertools`. http://jmduke.com/posts/a-gentle-introduction-to-itertools/"
   ]
  }
 ],
 "metadata": {
  "anaconda-cloud": {},
  "celltoolbar": "Slideshow",
  "kernelspec": {
   "display_name": "Python 3",
   "language": "python",
   "name": "python3"
  },
  "language_info": {
   "codemirror_mode": {
    "name": "ipython",
    "version": 3
   },
   "file_extension": ".py",
   "mimetype": "text/x-python",
   "name": "python",
   "nbconvert_exporter": "python",
   "pygments_lexer": "ipython3",
   "version": "3.6.5"
  }
 },
 "nbformat": 4,
 "nbformat_minor": 1
}
